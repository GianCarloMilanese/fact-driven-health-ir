{
 "cells": [
  {
   "cell_type": "code",
   "execution_count": 1,
   "id": "b14fd354-2b25-49f5-a866-9935f553e986",
   "metadata": {
    "tags": []
   },
   "outputs": [
    {
     "name": "stderr",
     "output_type": "stream",
     "text": [
      "/home/gian/.virtualenvs/hkgpub/lib/python3.9/site-packages/tqdm/auto.py:21: TqdmWarning: IProgress not found. Please update jupyter and ipywidgets. See https://ipywidgets.readthedocs.io/en/stable/user_install.html\n",
      "  from .autonotebook import tqdm as notebook_tqdm\n"
     ]
    }
   ],
   "source": [
    "import json\n",
    "import pandas as pd\n",
    "import re\n",
    "\n",
    "from collections import defaultdict\n",
    "from nltk.corpus import stopwords\n",
    "from rdflib import Graph, URIRef, Literal, RDFS\n",
    "from tqdm import tqdm\n",
    "\n",
    "import logging\n",
    "logging.getLogger(\"rdflib\").setLevel(logging.ERROR)\n",
    "\n",
    "from hkg.graph_utils import n3_to_RDFLib, save_graph, load_named_graph\n",
    "from hkg.labels import HKG_PREDICATES, URI2labels, Labels\n",
    "from hkg.rdf_regex import parse_triples_iter, string_is_URI, parse_triple, split_uri"
   ]
  },
  {
   "cell_type": "code",
   "execution_count": 2,
   "id": "1d53a5e7-b8ad-4790-8f4b-c27f4f330d2d",
   "metadata": {},
   "outputs": [],
   "source": [
    "STOPWORDS = stopwords.words('english')"
   ]
  },
  {
   "cell_type": "code",
   "execution_count": 3,
   "id": "e9d96953-fd16-4806-801a-156541237e06",
   "metadata": {},
   "outputs": [],
   "source": [
    "save_pickle = True\n",
    "save_turtle = True\n",
    "save_csv = True\n",
    "serialize_graph = lambda graph, graph_name, folder: save_graph(graph, graph_name, folder, save_pickle=save_pickle, save_turtle=save_turtle, save_csv=save_csv)"
   ]
  },
  {
   "cell_type": "code",
   "execution_count": 4,
   "id": "7d5e3d5e-8adf-46fd-9158-478b4f27c353",
   "metadata": {},
   "outputs": [],
   "source": [
    "ALLOW_INVERSE = True\n",
    "ALLOW_SIMILAR_PREDICATES = True"
   ]
  },
  {
   "cell_type": "markdown",
   "id": "d04b56a8-7c27-452a-be90-d4734ba1cc52",
   "metadata": {
    "tags": []
   },
   "source": [
    "# Load graph and dense index"
   ]
  },
  {
   "cell_type": "code",
   "execution_count": 5,
   "id": "cf90ecb2-1493-4b90-be29-7f42abd6c2d6",
   "metadata": {},
   "outputs": [
    {
     "name": "stdout",
     "output_type": "stream",
     "text": [
      "CPU times: user 31.3 s, sys: 593 ms, total: 31.9 s\n",
      "Wall time: 31.9 s\n"
     ]
    }
   ],
   "source": [
    "%%time\n",
    "graph_name = \"full_graph\"\n",
    "main_wl = load_named_graph(graph_name)"
   ]
  },
  {
   "cell_type": "code",
   "execution_count": 6,
   "id": "7f84a004-f9b1-43be-b0d5-4cb339e9a060",
   "metadata": {},
   "outputs": [
    {
     "name": "stdout",
     "output_type": "stream",
     "text": [
      "Processing graph\n",
      "Loading dense index full_graph_labels\n",
      "Computing equivalence classes\n",
      "Collecting entities for which to store labels\n",
      "Computing labels\n"
     ]
    },
    {
     "name": "stderr",
     "output_type": "stream",
     "text": [
      "100%|███████████████████████████████████████████████████████████████████████████████████████████████████████████████████████████████████████████████████████████████████████████████████████████████| 182452/182452 [00:12<00:00, 14547.22it/s]\n"
     ]
    },
    {
     "name": "stdout",
     "output_type": "stream",
     "text": [
      "Done.\n",
      "CPU times: user 47.3 s, sys: 525 ms, total: 47.8 s\n",
      "Wall time: 48.6 s\n"
     ]
    }
   ],
   "source": [
    "%%time\n",
    "main_labels = Labels(main_wl, dense_index=\"full_graph_labels\")"
   ]
  },
  {
   "cell_type": "markdown",
   "id": "d158b246-d9d9-4f4e-b4f6-911936b5b61e",
   "metadata": {
    "tags": []
   },
   "source": [
    "# Functions"
   ]
  },
  {
   "cell_type": "code",
   "execution_count": 7,
   "id": "24df7fb2-ee30-4903-bdfc-c7b5c9cfdee1",
   "metadata": {},
   "outputs": [],
   "source": [
    "def check_term_in_text(term, text):\n",
    "    if string_is_URI(term):\n",
    "        labels = URI2labels(term)\n",
    "    elif string_is_URI(re.sub(r\"\\s+\", \"_\", term)):\n",
    "        labels = URI2labels(re.sub(r\"\\s+\", \"_\", term))\n",
    "    else:\n",
    "        labels = set([term])\n",
    "    words = set(ls.lower() for label in labels for ls in label.split() if len(ls)>2 and ls.lower() not in STOPWORDS)\n",
    "    for word in words:\n",
    "        if word in text:\n",
    "            return True\n",
    "    return False"
   ]
  },
  {
   "cell_type": "code",
   "execution_count": 8,
   "id": "83ea251b-9c68-4c09-9d43-b940dcfa951d",
   "metadata": {},
   "outputs": [],
   "source": [
    "def validate_abstract(uri, term, abstract):\n",
    "    if string_is_URI(term) and (term == uri or URI2labels(term).intersection(URI2labels(uri))):\n",
    "        return True\n",
    "    return check_term_in_text(term, abstract)"
   ]
  },
  {
   "cell_type": "markdown",
   "id": "e32bd21f-3722-45fe-a74a-1077673575ac",
   "metadata": {
    "tags": []
   },
   "source": [
    "# Load abstracts"
   ]
  },
  {
   "cell_type": "code",
   "execution_count": 9,
   "id": "96a7bab1-5f11-4ae5-8e86-e9fdcc08d739",
   "metadata": {},
   "outputs": [],
   "source": [
    "abstracts = {}\n",
    "with open('data/main_graph_abstracts.jsonl') as f:\n",
    "    for line in f:\n",
    "        d = json.loads(line.strip())\n",
    "        abstracts[d['uri']] = {\"abstract\": d['abstract']}"
   ]
  },
  {
   "cell_type": "code",
   "execution_count": 10,
   "id": "51cd647b-b300-4379-9323-ba217b506a65",
   "metadata": {},
   "outputs": [],
   "source": [
    "with open('data/main_graph_abstracts_triples.jsonl') as f:\n",
    "    for line in f:\n",
    "        d = json.loads(line.strip())\n",
    "        abstracts[d[\"uri\"]][\"triples\"] = d[\"llm_output\"]"
   ]
  },
  {
   "cell_type": "markdown",
   "id": "79af2364-0938-45da-9b8c-ce72582a79e3",
   "metadata": {},
   "source": [
    "# Filter out triples with terms that do not originate from the abstract"
   ]
  },
  {
   "cell_type": "code",
   "execution_count": 11,
   "id": "71506ad1-7193-460a-ab6d-0017d51ba51e",
   "metadata": {
    "tags": []
   },
   "outputs": [
    {
     "name": "stderr",
     "output_type": "stream",
     "text": [
      "100%|████████████████████████████████████████████████████████████████████████████████████████████████████████████████████████████████████████████████████████████████████████████████████████████████████| 3430/3430 [00:02<00:00, 1630.10it/s]"
     ]
    },
    {
     "name": "stdout",
     "output_type": "stream",
     "text": [
      "26936\n",
      "7843\n",
      "CPU times: user 2.1 s, sys: 7.79 ms, total: 2.11 s\n",
      "Wall time: 2.11 s\n"
     ]
    },
    {
     "name": "stderr",
     "output_type": "stream",
     "text": [
      "\n"
     ]
    }
   ],
   "source": [
    "%%time\n",
    "good = set()\n",
    "bad = set()\n",
    "for uri in tqdm(abstracts.keys()):\n",
    "    triples = abstracts[uri]['triples'].strip()\n",
    "    abstract = abstracts[uri][\"abstract\"].lower()\n",
    "    for match in parse_triples_iter(triples):\n",
    "        predicate = match.group(\"predicate\")\n",
    "        valid_predicate, rdf_predicate = main_labels._validate_predicate(predicate)\n",
    "        if not valid_predicate:\n",
    "            continue\n",
    "        subject = match.group(\"subject\")\n",
    "        object_ = match.group(\"object\")\n",
    "        valid_sub = validate_abstract(uri, subject, abstract)\n",
    "        valid_obj = validate_abstract(uri, object_, abstract)\n",
    "        if valid_sub and valid_obj:\n",
    "            good.add((uri, match.group()))\n",
    "        else:\n",
    "            bad.add((uri, match.group()))\n",
    "print(len(good))\n",
    "print(len(bad))"
   ]
  },
  {
   "cell_type": "markdown",
   "id": "2fd60847-3a56-49e6-a921-4e0ccda7c5f3",
   "metadata": {},
   "source": [
    "# Normalize terms in generated triples (match terms to ones in DBpedia if possible)"
   ]
  },
  {
   "cell_type": "code",
   "execution_count": 12,
   "id": "90faeb60-158c-4ce5-8147-a43a74bdc882",
   "metadata": {},
   "outputs": [],
   "source": [
    "def uris(terms):\n",
    "    for term in terms:\n",
    "        if isinstance(term, URIRef):\n",
    "            yield(term)"
   ]
  },
  {
   "cell_type": "code",
   "execution_count": 13,
   "id": "d28520bc-3725-464e-bcac-6b9072559f99",
   "metadata": {},
   "outputs": [
    {
     "name": "stderr",
     "output_type": "stream",
     "text": [
      "100%|███████████████████████████████████████████████████████████████████████████████████████████████████████████████████████████████████████████████████████████████████████████████████████████████████| 26936/26936 [02:50<00:00, 157.79it/s]"
     ]
    },
    {
     "name": "stdout",
     "output_type": "stream",
     "text": [
      "CPU times: user 19min 59s, sys: 1.38 s, total: 20min\n",
      "Wall time: 2min 50s\n"
     ]
    },
    {
     "name": "stderr",
     "output_type": "stream",
     "text": [
      "\n"
     ]
    },
    {
     "data": {
      "text/plain": [
       "165443"
      ]
     },
     "execution_count": 13,
     "metadata": {},
     "output_type": "execute_result"
    }
   ],
   "source": [
    "%%time\n",
    "good_dbp = set()\n",
    "llm_graph = Graph()\n",
    "true_triples_dict = defaultdict(set)\n",
    "false_triples_dict = defaultdict(set)\n",
    "true_triples = set()\n",
    "for uri, trip in tqdm(good):\n",
    "    match = parse_triple(trip)\n",
    "    truth = match.group(\"truth\")\n",
    "    sub = match.group(\"subject\")\n",
    "    obj = match.group(\"object\")\n",
    "    pred = match.group(\"predicate\")\n",
    "    valid_predicate, pred = main_labels._validate_predicate(pred)\n",
    "    assert valid_predicate\n",
    "    sub_normalized = uris(main_labels.match_term(sub))\n",
    "    obj_normalized = main_labels.match_term(obj)\n",
    "    if truth == \"FALSE\" and not main_labels.verify_triple_two_steps(trip,\n",
    "                                                        allow_inverse=ALLOW_INVERSE,\n",
    "                                                        allow_similar_predicates=ALLOW_SIMILAR_PREDICATES):\n",
    "        # Avoid processing FALSE llm triples that are inside our main graph\n",
    "        continue\n",
    "    for s in sub_normalized:\n",
    "        if obj_normalized:\n",
    "            # Both subject and object can be mapped to terms in our main graph\n",
    "            for o in obj_normalized:\n",
    "                good_dbp.add((uri, str(truth), str(s), str(pred), str(o), \"full\"))\n",
    "                if truth == \"TRUE\":\n",
    "                    true_triples_dict[(s, pred, o)].add(trip)\n",
    "                    true_triples.add(trip)\n",
    "                    llm_graph.add((s, pred, o))\n",
    "                else:\n",
    "                    false_triples_dict[(s, pred, o)].add(trip)\n",
    "        else:\n",
    "            # Partial match: only the subject can be mapped to a term in our main graph\n",
    "            good_dbp.add((uri, str(truth), str(s), str(pred), str(obj), \"partial\"))\n",
    "            if truth == \"TRUE\":\n",
    "                true_triples_dict[(s, pred, n3_to_RDFLib(obj))].add(trip)\n",
    "                true_triples.add(trip)\n",
    "                llm_graph.add((s, pred, n3_to_RDFLib(obj)))\n",
    "            else:\n",
    "                false_triples_dict[(s, pred, n3_to_RDFLib(obj))].add(trip)\n",
    "            if string_is_URI(obj):\n",
    "                labels = URI2labels(obj)\n",
    "                for label in labels:\n",
    "                    good_dbp.add((uri, \"TRUE\", str(obj), str(RDFS.label), str(label), \"partial\"))\n",
    "                    if truth == \"TRUE\":\n",
    "                        llm_graph.add((n3_to_RDFLib(obj), RDFS.label, Literal(label)))\n",
    "\n",
    "len(good_dbp)"
   ]
  },
  {
   "cell_type": "code",
   "execution_count": 14,
   "id": "75a8a4aa-64c9-4a1c-a23f-a864f8eb0977",
   "metadata": {},
   "outputs": [
    {
     "data": {
      "text/plain": [
       "150103"
      ]
     },
     "execution_count": 14,
     "metadata": {},
     "output_type": "execute_result"
    }
   ],
   "source": [
    "len(llm_graph)"
   ]
  },
  {
   "cell_type": "markdown",
   "id": "426bd0af-65bb-4287-addf-06c7b2edb122",
   "metadata": {},
   "source": [
    "- main: 149253,\n",
    "- full: 150085"
   ]
  },
  {
   "cell_type": "markdown",
   "id": "8b84329f-f1d8-46ad-873a-6f9966e19561",
   "metadata": {},
   "source": [
    "# Consistency Check"
   ]
  },
  {
   "cell_type": "code",
   "execution_count": 15,
   "id": "15001ad3-7fc7-42d4-bec4-07c0ed52fe17",
   "metadata": {},
   "outputs": [
    {
     "data": {
      "text/plain": [
       "24586"
      ]
     },
     "execution_count": 15,
     "metadata": {},
     "output_type": "execute_result"
    }
   ],
   "source": [
    "true_triples = set()\n",
    "for rdf_triples, set_of_str_triples in true_triples_dict.items():\n",
    "    for str_triple in set_of_str_triples:\n",
    "        true_triples.add(str_triple)\n",
    "len(true_triples)"
   ]
  },
  {
   "cell_type": "code",
   "execution_count": 16,
   "id": "845d9032-c76b-4ad7-8a4d-8c16829fe64b",
   "metadata": {},
   "outputs": [
    {
     "data": {
      "text/plain": [
       "1038"
      ]
     },
     "execution_count": 16,
     "metadata": {},
     "output_type": "execute_result"
    }
   ],
   "source": [
    "false_triples = set()\n",
    "for rdf_triples, set_of_str_triples in false_triples_dict.items():\n",
    "    for str_triple in set_of_str_triples:\n",
    "        false_triples.add(str_triple)\n",
    "len(false_triples)"
   ]
  },
  {
   "cell_type": "code",
   "execution_count": 17,
   "id": "44a51e49-d552-42b2-97c3-51b4044e0190",
   "metadata": {},
   "outputs": [
    {
     "data": {
      "text/plain": [
       "(144689, 4528)"
      ]
     },
     "execution_count": 17,
     "metadata": {},
     "output_type": "execute_result"
    }
   ],
   "source": [
    "len(true_triples_dict), len(false_triples_dict)"
   ]
  },
  {
   "cell_type": "markdown",
   "id": "46ae31fb-9bc6-4bc9-bf12-6b374af4c676",
   "metadata": {},
   "source": [
    "Some LLM-generated triples have both a \"TRUE\" version and a \"FALSE\" version:"
   ]
  },
  {
   "cell_type": "code",
   "execution_count": 18,
   "id": "926d3b6d-561e-4111-9783-189fb0bc2088",
   "metadata": {},
   "outputs": [
    {
     "data": {
      "text/plain": [
       "49"
      ]
     },
     "execution_count": 18,
     "metadata": {},
     "output_type": "execute_result"
    }
   ],
   "source": [
    "intersection = set(false_triples_dict.keys()).intersection(set(true_triples_dict.keys()))\n",
    "len(intersection)"
   ]
  },
  {
   "cell_type": "markdown",
   "id": "a8d6e3ea-9b9d-47a4-90eb-7660f74cd0cb",
   "metadata": {},
   "source": [
    "Percentage of contradictory generated triples:"
   ]
  },
  {
   "cell_type": "code",
   "execution_count": 19,
   "id": "acf55a5d-3bb6-4e5d-9251-c47ad6f9821d",
   "metadata": {},
   "outputs": [
    {
     "data": {
      "text/plain": [
       "'0.0328%'"
      ]
     },
     "execution_count": 19,
     "metadata": {},
     "output_type": "execute_result"
    }
   ],
   "source": [
    "f\"{len(intersection)/len(set(false_triples_dict.keys()).union(set(true_triples_dict.keys())))*100:.4f}%\""
   ]
  },
  {
   "cell_type": "code",
   "execution_count": 20,
   "id": "0aeb7cd1-7d68-4234-aa3b-0b634638962e",
   "metadata": {},
   "outputs": [],
   "source": [
    "example = sorted(list(intersection))[0]"
   ]
  },
  {
   "cell_type": "code",
   "execution_count": 21,
   "id": "626f4ea4-f24b-4173-827e-a8c210feaf2a",
   "metadata": {},
   "outputs": [
    {
     "data": {
      "text/plain": [
       "(rdflib.term.URIRef('http://dbpedia.org/resource/African_trypanosomiasis'),\n",
       " rdflib.term.URIRef('https://example.org/health_kg/diagnosis'),\n",
       " rdflib.term.URIRef('http://dbpedia.org/resource/Suramin'))"
      ]
     },
     "execution_count": 21,
     "metadata": {},
     "output_type": "execute_result"
    }
   ],
   "source": [
    "example"
   ]
  },
  {
   "cell_type": "code",
   "execution_count": 22,
   "id": "9f887257-a4df-45fa-8284-8b37bfd4bd6a",
   "metadata": {},
   "outputs": [
    {
     "data": {
      "text/plain": [
       "{'TRUE ( dbr:African_trypanosomiasis hkg:diagnosis dbr:Suramin )'}"
      ]
     },
     "execution_count": 22,
     "metadata": {},
     "output_type": "execute_result"
    }
   ],
   "source": [
    "true_triples_dict[example]"
   ]
  },
  {
   "cell_type": "code",
   "execution_count": 23,
   "id": "9eacbb8e-f98a-4b15-a4e1-998a22fb3852",
   "metadata": {},
   "outputs": [
    {
     "data": {
      "text/plain": [
       "{'FALSE ( dbr:African_sleeping_sickness hkg:diagnosis dbr:Suramin )'}"
      ]
     },
     "execution_count": 23,
     "metadata": {},
     "output_type": "execute_result"
    }
   ],
   "source": [
    "false_triples_dict[example]"
   ]
  },
  {
   "cell_type": "markdown",
   "id": "c6bdc225-95d1-417e-a6f5-27c290ddb27c",
   "metadata": {},
   "source": [
    "Let's remove these triples from the graph and from the set of true triples"
   ]
  },
  {
   "cell_type": "code",
   "execution_count": 24,
   "id": "2079aad0-5658-4c72-b226-25e8d9414246",
   "metadata": {},
   "outputs": [
    {
     "name": "stdout",
     "output_type": "stream",
     "text": [
      "Before: 150103\n",
      "After: 150054\n"
     ]
    }
   ],
   "source": [
    "print(f\"Before: {len(llm_graph)}\")\n",
    "for trip in intersection:\n",
    "    llm_graph.remove(trip)\n",
    "print(f\"After: {len(llm_graph)}\")"
   ]
  },
  {
   "cell_type": "code",
   "execution_count": 25,
   "id": "a1fa609a-c519-42f4-8494-877ab9dccb5c",
   "metadata": {},
   "outputs": [
    {
     "name": "stdout",
     "output_type": "stream",
     "text": [
      "Before: 24586\n",
      "After: 24577\n"
     ]
    }
   ],
   "source": [
    "print(f\"Before: {len(true_triples)}\")\n",
    "for trip in intersection:\n",
    "    for str_trip in true_triples_dict[trip]:\n",
    "        true_triples.discard(str_trip)\n",
    "print(f\"After: {len(true_triples)}\")"
   ]
  },
  {
   "cell_type": "markdown",
   "id": "818817ec-1a8c-4b5b-ae75-2a86772f7dcf",
   "metadata": {},
   "source": [
    "# Count LLM triples"
   ]
  },
  {
   "cell_type": "code",
   "execution_count": 26,
   "id": "5632ce22-a64a-4853-b6ff-e3619c1e67e4",
   "metadata": {},
   "outputs": [],
   "source": [
    "predicate_to_trip = defaultdict(set)\n",
    "for trip in true_triples:\n",
    "    match = parse_triple(trip)\n",
    "    sub = match.group(\"subject\")\n",
    "    obj = match.group(\"object\")\n",
    "    pred = match.group(\"predicate\")\n",
    "    prefix, pred_name = split_uri(pred)\n",
    "    predicate_to_trip[pred_name].add((sub, obj))"
   ]
  },
  {
   "cell_type": "code",
   "execution_count": 27,
   "id": "b5a7e66d-e5a0-4b99-91bf-a22df75420ab",
   "metadata": {},
   "outputs": [
    {
     "name": "stdout",
     "output_type": "stream",
     "text": [
      "# generated triples for hkg:cause: 5587\n",
      "# generated triples for hkg:complication: 3179\n",
      "# generated triples for hkg:diagnosis: 2032\n",
      "# generated triples for hkg:medication: 323\n",
      "# generated triples for hkg:prevention: 695\n",
      "# generated triples for hkg:risk: 1722\n",
      "# generated triples for hkg:symptom: 7406\n",
      "# generated triples for hkg:treatment: 3632\n"
     ]
    }
   ],
   "source": [
    "for k, v in sorted(predicate_to_trip.items()):\n",
    "    print(f\"# generated triples for hkg:{k}: {len(v)}\")"
   ]
  },
  {
   "cell_type": "markdown",
   "id": "477a4b63-4d54-4e8d-8be8-1e204f55cb88",
   "metadata": {},
   "source": [
    "# Save filtered triples as a graph"
   ]
  },
  {
   "cell_type": "code",
   "execution_count": 28,
   "id": "b1fbb48b-884d-4c94-b389-ff2582ca82e8",
   "metadata": {},
   "outputs": [
    {
     "name": "stdout",
     "output_type": "stream",
     "text": [
      "Saving ./data/graphs/pickle/full_graph_abstract_triples_filtered.pickle\n",
      "Saving ./data/graphs/csv/full_graph_abstract_triples_filtered.csv\n",
      "Saving ./data/graphs/ttl/full_graph_abstract_triples_filtered.ttl\n",
      "CPU times: user 31.6 s, sys: 132 ms, total: 31.7 s\n",
      "Wall time: 31.6 s\n"
     ]
    }
   ],
   "source": [
    "%%time\n",
    "out_filename=f\"{graph_name}_abstract_triples_filtered\"\n",
    "serialize_graph(llm_graph, out_filename, \"./data/graphs/\")"
   ]
  }
 ],
 "metadata": {
  "kernelspec": {
   "display_name": "hkgpub",
   "language": "python",
   "name": "hkgpub"
  },
  "language_info": {
   "codemirror_mode": {
    "name": "ipython",
    "version": 3
   },
   "file_extension": ".py",
   "mimetype": "text/x-python",
   "name": "python",
   "nbconvert_exporter": "python",
   "pygments_lexer": "ipython3",
   "version": "3.9.5"
  }
 },
 "nbformat": 4,
 "nbformat_minor": 5
}
