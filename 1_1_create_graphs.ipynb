{
 "cells": [
  {
   "cell_type": "code",
   "execution_count": 1,
   "id": "511e309a-7a0c-4673-888a-bcb1a3765d88",
   "metadata": {
    "tags": []
   },
   "outputs": [
    {
     "name": "stderr",
     "output_type": "stream",
     "text": [
      "/home/gian/.virtualenvs/hkgpub/lib/python3.9/site-packages/tqdm/auto.py:21: TqdmWarning: IProgress not found. Please update jupyter and ipywidgets. See https://ipywidgets.readthedocs.io/en/stable/user_install.html\n",
      "  from .autonotebook import tqdm as notebook_tqdm\n"
     ]
    }
   ],
   "source": [
    "import pickle\n",
    "import re\n",
    "import os\n",
    "\n",
    "from SPARQLWrapper import SPARQLWrapper\n",
    "from rdflib import Graph, URIRef, Literal, RDF, RDFS\n",
    "from tqdm import tqdm\n",
    "\n",
    "from hkg.graph_utils import save_graph, add_namespaces, subgraph\n",
    "from hkg.labels import URI2labels\n",
    "from hkg.namespaces import DBP, DBO, DBR, HKG"
   ]
  },
  {
   "cell_type": "markdown",
   "id": "10c96142-474c-4252-a9c9-2af8d3b1d277",
   "metadata": {},
   "source": [
    "Create the folders where the graphs will be stored in different formats"
   ]
  },
  {
   "cell_type": "code",
   "execution_count": 2,
   "id": "929cf88f-c7dc-4309-9e7e-c6449683862e",
   "metadata": {},
   "outputs": [],
   "source": [
    "os.makedirs(\"./data/graphs/pickle\", exist_ok=True)\n",
    "os.makedirs(\"./data/graphs/csv\", exist_ok=True)\n",
    "os.makedirs(\"./data/graphs/ttl\", exist_ok=True)"
   ]
  },
  {
   "cell_type": "code",
   "execution_count": 3,
   "id": "50a65dc7-0ec4-4916-94ce-2d86ece50101",
   "metadata": {},
   "outputs": [],
   "source": [
    "save_pickle = True\n",
    "save_turtle = True\n",
    "save_csv = True\n",
    "serialize_graph = lambda graph, graph_name, folder: save_graph(graph, graph_name, folder, save_pickle=save_pickle, save_turtle=save_turtle, save_csv=save_csv)"
   ]
  },
  {
   "cell_type": "markdown",
   "id": "d25e7046-85c9-418a-b43a-f6c4c0881c03",
   "metadata": {},
   "source": [
    "Initialize SPARQLWrapper. Running on \"http://localhost:8890/sparql\" there should be a local instance of Virtuoso with the DBpedia KG."
   ]
  },
  {
   "cell_type": "code",
   "execution_count": 4,
   "id": "71ab6ed0-a2d3-4d95-a23f-32485e44228e",
   "metadata": {},
   "outputs": [],
   "source": [
    "local_sparql = SPARQLWrapper(\"http://localhost:8890/sparql\")"
   ]
  },
  {
   "cell_type": "markdown",
   "id": "5a9a5060-b35b-4ad1-80f6-ea98005c6110",
   "metadata": {},
   "source": [
    "A few functions for filtering terms"
   ]
  },
  {
   "cell_type": "code",
   "execution_count": 5,
   "id": "48684d7b-4575-469f-8f50-7bcf703d3564",
   "metadata": {},
   "outputs": [],
   "source": [
    "# regex to exlude some chemical formulas.\n",
    "exclude = re.compile(r\"[α-ωΑ-Ω]|\\d+-\\D+|skeletal formula\")\n",
    "\n",
    "# skip common useless terms\n",
    "skip = {\"other\", \"others\", \"many others\",\n",
    "        \"many\", \"none\", \"see article\",\n",
    "        \"unknown\", \"unclear\", \"uncertain\", \"often not identified\",\n",
    "        \"n\", \"\", \"etc.\",\n",
    "        \"ball-and-stick model\", \"structural formula\", \"space-filling model\"\n",
    "       } # \"medication\", \"medications\", \"surgical\", \"conservative\"\n",
    "\n",
    "def valid_literal(l):\n",
    "    return l.strip() not in skip and len(l) > 2 and not l.strip().isnumeric() and not exclude.search(l)\n",
    "\n",
    "def valid_iri(iri):\n",
    "    if iri.removeprefix(DBR).startswith('ATC_code'):\n",
    "        return False\n",
    "    if iri.removeprefix(DBR).startswith('ATCvet_code'):\n",
    "        return False\n",
    "    return True"
   ]
  },
  {
   "cell_type": "markdown",
   "id": "d0f19c36-b9a0-4b46-acd4-5e0154c6087c",
   "metadata": {},
   "source": [
    "A function for splitting a label containing alternatives into multiple labels."
   ]
  },
  {
   "cell_type": "code",
   "execution_count": 6,
   "id": "95eaeb81-f7cc-456a-b781-45c6cb33af16",
   "metadata": {},
   "outputs": [],
   "source": [
    "ALTERNATIVE = re.compile(r\"(?P<left>\\S+)/(?P<right>\\S+)\")\n",
    "def split_alternatives(string, min_length=3):\n",
    "    alternatives = set()\n",
    "    match = ALTERNATIVE.match(string)\n",
    "    if not match:\n",
    "        return alternatives\n",
    "    left = match.group(\"left\")\n",
    "    right = match.group(\"right\")\n",
    "    if len(left) < min_length or len(right) < min_length:\n",
    "        return alternatives\n",
    "    if not valid_literal(left) or not valid_literal(right):\n",
    "        return alternatives\n",
    "    alternatives.add(string.replace(match.group(), left))\n",
    "    alternatives.add(string.replace(match.group(), right))\n",
    "    return alternatives"
   ]
  },
  {
   "cell_type": "markdown",
   "id": "8868ecf3-6ef3-4960-901a-b854056f9c66",
   "metadata": {},
   "source": [
    "A function to run a query on DBpedia:"
   ]
  },
  {
   "cell_type": "code",
   "execution_count": 7,
   "id": "e99d1bcf-499c-4098-8c41-7a1c47ea3720",
   "metadata": {},
   "outputs": [],
   "source": [
    "def run_query(query, split=True):\n",
    "    split_pattern = \",|;|\\*\"\n",
    "    graph = Graph()\n",
    "    local_sparql.setQuery(query)\n",
    "    local_sparql.setReturnFormat(format=\"xml\")\n",
    "    results = local_sparql.queryAndConvert()\n",
    "    for s, p, o in results:\n",
    "        if not valid_iri(s):\n",
    "            continue\n",
    "        if isinstance(o, URIRef) and not valid_iri(o):\n",
    "            continue\n",
    "        if isinstance(o, Literal) and p == RDFS.label:\n",
    "            labels = URI2labels(s)\n",
    "            for label in labels:\n",
    "                graph.add((s, p, Literal(label, \"en\")))\n",
    "            if o.value.lower() in labels and \", \" in o.value:\n",
    "                # Take care of IRIs with a comma in the value: e.g.,\n",
    "                # \"<http://dbpedia.org/resource/Aminoaciduria,_renal>\"\n",
    "                # -> \"aminoaciduria\" and \"aminuaciduria renal\"\n",
    "                before_comma = o.value.lower().split(\", \")[0]\n",
    "                without_comma = o.value.lower().replace(\", \", \" \")\n",
    "                graph.add((s, p, Literal(before_comma, o.language, o.datatype)))\n",
    "                graph.add((s, p, Literal(without_comma, o.language, o.datatype)))\n",
    "            if o.value.lower() not in labels and split:\n",
    "                for l in re.split(split_pattern, o.value.lower()):\n",
    "                    l = l.strip()\n",
    "                    if valid_literal(l):\n",
    "                        graph.add((s, p, Literal(l, o.language, o.datatype)))\n",
    "                        if l.count(\"/\") == 1:\n",
    "                            # Split alternatives e.g., dbr:Disease hkg:relation \"a/b c\" ->\n",
    "                            # Split alternatives e.g., dbr:Disease hkg:relation \"a c\" and\n",
    "                            # Split alternatives e.g., dbr:Disease hkg:relation \"b c\"\n",
    "                            for alt in split_alternatives(l):\n",
    "                                graph.add((s, p, Literal(alt.strip(), o.language, o.datatype)))\n",
    "        elif isinstance(o, Literal) and split and o.value and isinstance(o.value, str):\n",
    "            for l in re.split(split_pattern, o.value.lower()):\n",
    "                l = l.strip()\n",
    "                if valid_literal(l):\n",
    "                    graph.add((s, p, Literal(l, o.language, o.datatype)))\n",
    "                    if l.count(\"/\") == 1:\n",
    "                        for alt in split_alternatives(l):\n",
    "                            trip = (s, p, Literal(alt.strip(), o.language, o.datatype))\n",
    "                            graph.add(trip)\n",
    "        elif o:\n",
    "            graph.add((s, p, o))\n",
    "    return graph"
   ]
  },
  {
   "cell_type": "markdown",
   "id": "86078c9d-658e-442e-9909-82d4c6c00e8c",
   "metadata": {
    "tags": []
   },
   "source": [
    "## All diseases, their types, labels, sameAs"
   ]
  },
  {
   "cell_type": "markdown",
   "id": "be1b8d99-c8fc-4343-94dd-d84624ad2113",
   "metadata": {},
   "source": [
    "Get all DBpedia diseases, and if available also their English labels, their equivalent entities and their labels."
   ]
  },
  {
   "cell_type": "code",
   "execution_count": 8,
   "id": "df20d389-38fe-44e4-b56a-a82be9f6957b",
   "metadata": {},
   "outputs": [],
   "source": [
    "disease_types, disease_labels, disease_sameas = Graph(), Graph(), Graph()\n",
    "query = \"\"\"construct { ?disease a dbo:Disease ; owl:sameAs ?same_ent ; rdfs:label ?label . ?same_ent rdfs:label ?same_ent_label }\n",
    "           where\n",
    "           { ?disease a dbo:Disease .\n",
    "             OPTIONAL { ?disease rdfs:label ?label . FILTER(lang(?label) = \"en\")  }\n",
    "             OPTIONAL { ?disease dbo:wikiPageRedirects|^dbo:wikiPageRedirects ?same_ent .\n",
    "                     OPTIONAL { ?same_ent rdfs:label ?same_ent_label\n",
    "                                FILTER (lang(?same_ent_label) = \"en\")\n",
    "                     } }\n",
    "           }\"\"\"\n",
    "graph = run_query(query, split=True)"
   ]
  },
  {
   "cell_type": "code",
   "execution_count": 9,
   "id": "94a3fce7-9931-465d-b5d0-d6e747897597",
   "metadata": {},
   "outputs": [],
   "source": [
    "disease_types += subgraph(graph, \"rdf:type\")\n",
    "disease_labels += subgraph(graph, \"rdfs:label\")\n",
    "disease_sameas += subgraph(graph, \"owl:sameAs\")"
   ]
  },
  {
   "cell_type": "code",
   "execution_count": 10,
   "id": "7a0aaacc-1dbd-4938-afa7-750376e49ed1",
   "metadata": {},
   "outputs": [
    {
     "data": {
      "text/plain": [
       "(18333, 108149, 73718)"
      ]
     },
     "execution_count": 10,
     "metadata": {},
     "output_type": "execute_result"
    }
   ],
   "source": [
    "len(disease_types), len(disease_labels), len(disease_sameas)"
   ]
  },
  {
   "cell_type": "code",
   "execution_count": 11,
   "id": "3466d7af-28e9-494d-acd0-44de8e117634",
   "metadata": {},
   "outputs": [],
   "source": [
    "disease_properties_comments = [\"dbo:abstract\", \"rdfs:comment\"]\n",
    "disease_properties_labels= [\"rdfs:label\", \"dbp:synonyms\", \"dbo:alias\", \"dbo:geneReviewsName\", \"dbo:synonym\", \"dbp:alt\", \"foaf:name\"]"
   ]
  },
  {
   "cell_type": "markdown",
   "id": "7b64ab45-088f-47a6-af4a-6a4d451aea1f",
   "metadata": {},
   "source": [
    "Get also the abstract and comments for diseases."
   ]
  },
  {
   "cell_type": "code",
   "execution_count": 12,
   "id": "25417d34-345e-4f3a-9cfd-ff9997a3bc63",
   "metadata": {},
   "outputs": [
    {
     "name": "stdout",
     "output_type": "stream",
     "text": [
      "Added 16644 triples for dbo:abstract\n",
      "Added 0 triples for owl:sameAs\n",
      "Added 16644 triples for rdfs:comment\n",
      "Added 0 triples for owl:sameAs\n"
     ]
    }
   ],
   "source": [
    "query = \"\"\"construct {{ ?disease a dbo:Disease ; {out_prop} ?o ; owl:sameAs ?same_ent . ?same_ent {out_prop} ?same_ent_label }}\n",
    "           where\n",
    "           {{ ?disease a dbo:Disease ; {in_prop} ?o . FILTER (lang(?o) = \"en\")\n",
    "           OPTIONAL {{ ?disease dbo:wikiPageRedirects|^dbo:wikiPageRedirects ?same_ent . ?same_ent {in_prop} ?same_ent_label\n",
    "                       FILTER (lang(?same_ent_label) = \"en\")\n",
    "           }}\n",
    "           }}\"\"\"\n",
    "\n",
    "for prop in disease_properties_comments:\n",
    "    q = query.format(in_prop=prop, out_prop=prop)\n",
    "    graph = run_query(q, split=False)\n",
    "    add_namespaces(graph)\n",
    "    \n",
    "    before = len(disease_labels)\n",
    "    disease_labels += subgraph(graph, prop)\n",
    "    after = len(disease_labels)\n",
    "    print(f\"Added {after-before} triples for {prop}\")\n",
    "    \n",
    "    before = len(disease_sameas)\n",
    "    disease_sameas += subgraph(graph, \"owl:sameAs\")\n",
    "    after = len(disease_sameas)\n",
    "    print(f\"Added {after-before} triples for owl:sameAs\")"
   ]
  },
  {
   "cell_type": "markdown",
   "id": "22e7605e-0d13-4dd7-ae6a-8de7de46ba86",
   "metadata": {},
   "source": [
    "Get also synonyms and other aliases."
   ]
  },
  {
   "cell_type": "code",
   "execution_count": 13,
   "id": "b55f38fe-8979-4c60-871f-3e2c1998bd1e",
   "metadata": {},
   "outputs": [
    {
     "name": "stdout",
     "output_type": "stream",
     "text": [
      "Added 0 triples for rdfs:label\n",
      "Added 0 triples for owl:sameAs\n",
      "Added 7963 triples for dbp:synonyms\n",
      "Added 0 triples for owl:sameAs\n",
      "Added 62 triples for dbo:alias\n",
      "Added 0 triples for owl:sameAs\n",
      "Added 126 triples for dbo:geneReviewsName\n",
      "Added 0 triples for owl:sameAs\n",
      "Added 0 triples for dbo:synonym\n",
      "Added 0 triples for owl:sameAs\n",
      "Added 430 triples for dbp:alt\n",
      "Added 0 triples for owl:sameAs\n",
      "Added 1035 triples for foaf:name\n",
      "Added 0 triples for owl:sameAs\n"
     ]
    }
   ],
   "source": [
    "for prop in disease_properties_labels:\n",
    "    q = query.format(in_prop=prop, out_prop=\"rdfs:label\")\n",
    "    graph = run_query(q, split=True)\n",
    "    add_namespaces(graph)\n",
    "    \n",
    "    before = len(disease_labels)\n",
    "    disease_labels += subgraph(graph, \"rdfs:label\")\n",
    "    after = len(disease_labels)\n",
    "    print(f\"Added {after-before} triples for {prop}\")\n",
    "    \n",
    "    before = len(disease_sameas)\n",
    "    disease_sameas += subgraph(graph, \"owl:sameAs\")\n",
    "    after = len(disease_sameas)\n",
    "    print(f\"Added {after-before} triples for owl:sameAs\")"
   ]
  },
  {
   "cell_type": "code",
   "execution_count": 14,
   "id": "879a790a-55af-4807-b788-cf47f3874875",
   "metadata": {},
   "outputs": [
    {
     "data": {
      "text/plain": [
       "(18333, 151053, 73718)"
      ]
     },
     "execution_count": 14,
     "metadata": {},
     "output_type": "execute_result"
    }
   ],
   "source": [
    "len(disease_types), len(disease_labels), len(disease_sameas)"
   ]
  },
  {
   "cell_type": "code",
   "execution_count": 15,
   "id": "bc1e3f8e-ae10-45bf-b982-82e7a60b31cc",
   "metadata": {},
   "outputs": [],
   "source": [
    "all_diseases = disease_types+disease_labels+disease_sameas"
   ]
  },
  {
   "cell_type": "code",
   "execution_count": 16,
   "id": "7344e96a-27e0-4e6b-ae8b-93aefce69564",
   "metadata": {},
   "outputs": [
    {
     "name": "stdout",
     "output_type": "stream",
     "text": [
      "Saving ./data/graphs/pickle/all_diseases.pickle\n",
      "Saving ./data/graphs/csv/all_diseases.csv\n",
      "Saving ./data/graphs/ttl/all_diseases.ttl\n",
      "CPU times: user 2min 17s, sys: 344 ms, total: 2min 17s\n",
      "Wall time: 2min 17s\n"
     ]
    }
   ],
   "source": [
    "%%time\n",
    "serialize_graph(all_diseases, \"all_diseases\", \"./data/graphs/\")"
   ]
  },
  {
   "cell_type": "markdown",
   "id": "ff8f7048-85b5-43c8-965a-565b47e2097a",
   "metadata": {
    "tags": []
   },
   "source": [
    "## All drugs, their types, labels, sameAs"
   ]
  },
  {
   "cell_type": "markdown",
   "id": "aecbbeb0-ed5f-4de8-9381-6d45965adb50",
   "metadata": {},
   "source": [
    "Get all DBpedia drugs, and if available also their English labels, their equivalent entities and their labels."
   ]
  },
  {
   "cell_type": "code",
   "execution_count": 17,
   "id": "56513a21-d503-4f71-92da-5705e28cc006",
   "metadata": {},
   "outputs": [],
   "source": [
    "drug_types, drug_labels, drug_sameas = Graph(), Graph(), Graph()\n",
    "query = \"\"\"construct { ?drug a dbo:Drug ; owl:sameAs ?same_ent ; rdfs:label ?label . ?same_ent rdfs:label ?same_ent_label }\n",
    "           where\n",
    "           { ?drug a dbo:Drug .\n",
    "             OPTIONAL { ?drug rdfs:label ?label . FILTER(lang(?label) = \"en\")  }\n",
    "             OPTIONAL { ?drug dbo:wikiPageRedirects|^dbo:wikiPageRedirects ?same_ent .\n",
    "                     OPTIONAL { ?same_ent rdfs:label ?same_ent_label\n",
    "                                FILTER (lang(?same_ent_label) = \"en\")\n",
    "                     } }\n",
    "           }\"\"\"\n",
    "graph = run_query(query, split=True)"
   ]
  },
  {
   "cell_type": "code",
   "execution_count": 18,
   "id": "76c62070-dbba-4fd7-b828-1dd7cd9ed82a",
   "metadata": {},
   "outputs": [],
   "source": [
    "drug_types += subgraph(graph, \"rdf:type\")\n",
    "drug_labels += subgraph(graph, \"rdfs:label\")\n",
    "drug_sameas += subgraph(graph, \"owl:sameAs\")"
   ]
  },
  {
   "cell_type": "code",
   "execution_count": 19,
   "id": "6b5340db-5449-447c-bcde-94b07a3b91b5",
   "metadata": {},
   "outputs": [
    {
     "data": {
      "text/plain": [
       "(11234, 84537, 55885)"
      ]
     },
     "execution_count": 19,
     "metadata": {},
     "output_type": "execute_result"
    }
   ],
   "source": [
    "len(drug_types), len(drug_labels), len(drug_sameas)"
   ]
  },
  {
   "cell_type": "code",
   "execution_count": 20,
   "id": "1338ebb5-ada9-4391-984a-14f0458c34e5",
   "metadata": {},
   "outputs": [],
   "source": [
    "drug_properties_comments = [\"dbo:abstract\", \"rdfs:comment\"]\n",
    "drug_properties_labels = [\"rdfs:label\", \"dbo:alternativeName\", \"dbp:alt\", \"dbp:dailymedid\", \"foaf:name\", \"dbp:drugName\", \"dbp:synonyms\", \"dbp:tradename\"]"
   ]
  },
  {
   "cell_type": "markdown",
   "id": "3cce75a1-39be-4ecd-92b1-5e1d366cb4e6",
   "metadata": {},
   "source": [
    "Get also the abstract and comments for drugs."
   ]
  },
  {
   "cell_type": "code",
   "execution_count": 21,
   "id": "cc1d5956-8b39-49b1-b217-2cd6b9ad7eb6",
   "metadata": {},
   "outputs": [
    {
     "name": "stdout",
     "output_type": "stream",
     "text": [
      "Added 10743 triples for dbo:abstract\n",
      "Added 0 triples for owl:sameAs\n",
      "Added 10743 triples for rdfs:comment\n",
      "Added 0 triples for owl:sameAs\n"
     ]
    }
   ],
   "source": [
    "query = \"\"\"construct {{ ?drug a dbo:Drug ; {out_prop} ?o ; owl:sameAs ?same_ent . ?same_ent {out_prop} ?same_ent_label }}\n",
    "           where\n",
    "           {{ ?drug a dbo:Drug ; {in_prop} ?o . FILTER (lang(?o) = \"en\")\n",
    "           OPTIONAL {{ ?drug dbo:wikiPageRedirects|^dbo:wikiPageRedirects ?same_ent . ?same_ent {in_prop} ?same_ent_label\n",
    "                       FILTER (lang(?same_ent_label) = \"en\")\n",
    "           }}\n",
    "           }}\"\"\"\n",
    "\n",
    "for prop in drug_properties_comments:\n",
    "    q = query.format(in_prop=prop, out_prop=prop)\n",
    "    graph = run_query(q, split=False)\n",
    "    add_namespaces(graph)\n",
    "    \n",
    "    before = len(drug_labels)\n",
    "    drug_labels += subgraph(graph, prop)\n",
    "    after = len(drug_labels)\n",
    "    print(f\"Added {after-before} triples for {prop}\")\n",
    "    \n",
    "    before = len(drug_sameas)\n",
    "    drug_sameas += subgraph(graph, \"owl:sameAs\")\n",
    "    after = len(drug_sameas)\n",
    "    print(f\"Added {after-before} triples for owl:sameAs\")"
   ]
  },
  {
   "cell_type": "markdown",
   "id": "c3425fc1-a0e6-4c30-ad15-ae4026647ab9",
   "metadata": {},
   "source": [
    "Get also synonyms and other aliases."
   ]
  },
  {
   "cell_type": "code",
   "execution_count": 22,
   "id": "0fc98941-b927-45d2-9eba-bed23bb128b6",
   "metadata": {},
   "outputs": [
    {
     "name": "stdout",
     "output_type": "stream",
     "text": [
      "Added 0 triples for rdfs:label\n",
      "Added 0 triples for owl:sameAs\n",
      "Added 6539 triples for dbo:alternativeName\n",
      "Added 0 triples for owl:sameAs\n",
      "Added 498 triples for dbp:alt\n",
      "Added 0 triples for owl:sameAs\n",
      "Added 315 triples for dbp:dailymedid\n",
      "Added 0 triples for owl:sameAs\n",
      "Added 306 triples for foaf:name\n",
      "Added 0 triples for owl:sameAs\n",
      "Added 34 triples for dbp:drugName\n",
      "Added 0 triples for owl:sameAs\n",
      "Added 4739 triples for dbp:synonyms\n",
      "Added 0 triples for owl:sameAs\n",
      "Added 156 triples for dbp:tradename\n",
      "Added 0 triples for owl:sameAs\n"
     ]
    }
   ],
   "source": [
    "for prop in drug_properties_labels:\n",
    "    q = query.format(in_prop=prop, out_prop=\"rdfs:label\")\n",
    "    graph = run_query(q, split=True)\n",
    "    add_namespaces(graph)\n",
    "    \n",
    "    before = len(drug_labels)\n",
    "    drug_labels += subgraph(graph, \"rdfs:label\")\n",
    "    after = len(drug_labels)\n",
    "    print(f\"Added {after-before} triples for {prop}\")\n",
    "    \n",
    "    before = len(drug_sameas)\n",
    "    drug_sameas += subgraph(graph, \"owl:sameAs\")\n",
    "    after = len(drug_sameas)\n",
    "    print(f\"Added {after-before} triples for owl:sameAs\")"
   ]
  },
  {
   "cell_type": "code",
   "execution_count": 23,
   "id": "37000db5-0cf0-40a4-a198-a33e145f5ae7",
   "metadata": {},
   "outputs": [
    {
     "data": {
      "text/plain": [
       "(11234, 118610, 55885)"
      ]
     },
     "execution_count": 23,
     "metadata": {},
     "output_type": "execute_result"
    }
   ],
   "source": [
    "len(drug_types), len(drug_labels), len(drug_sameas)"
   ]
  },
  {
   "cell_type": "markdown",
   "id": "88233120-fc6f-49f0-bf68-1f700b3473fc",
   "metadata": {},
   "source": [
    "(11234, 97065, 55885)\n"
   ]
  },
  {
   "cell_type": "code",
   "execution_count": 24,
   "id": "329d7a3e-2b25-4d84-9dfc-bfd1557e3b64",
   "metadata": {},
   "outputs": [],
   "source": [
    "all_drugs = drug_types+drug_labels+drug_sameas"
   ]
  },
  {
   "cell_type": "code",
   "execution_count": 25,
   "id": "f2a102c5-9905-478e-b7ac-6828b7fe0cad",
   "metadata": {},
   "outputs": [
    {
     "name": "stdout",
     "output_type": "stream",
     "text": [
      "Saving ./data/graphs/pickle/all_drugs.pickle\n",
      "Saving ./data/graphs/csv/all_drugs.csv\n",
      "Saving ./data/graphs/ttl/all_drugs.ttl\n",
      "CPU times: user 1min 15s, sys: 168 ms, total: 1min 15s\n",
      "Wall time: 1min 15s\n"
     ]
    }
   ],
   "source": [
    "%%time\n",
    "serialize_graph(all_drugs, \"all_drugs\", \"./data/graphs/\")"
   ]
  },
  {
   "cell_type": "markdown",
   "id": "feab34f6-6c0c-4592-a53f-700594dac80a",
   "metadata": {},
   "source": [
    "# Main graph"
   ]
  },
  {
   "cell_type": "markdown",
   "id": "85b576b9-198f-44c3-80b2-75fb820cdf76",
   "metadata": {},
   "source": [
    "Get triples linked by `dbo:treatment`, `dbo:medication` and other health-related predicates."
   ]
  },
  {
   "cell_type": "code",
   "execution_count": 26,
   "id": "0c94e94f-d04b-4d11-8ad3-326a9e8c423a",
   "metadata": {},
   "outputs": [],
   "source": [
    "hkg = dict()\n",
    "hkg[DBP.treatment.n3()] = HKG.treatment.n3()\n",
    "hkg[DBO.treatment.n3()] = HKG.treatment.n3()\n",
    "hkg[DBP.medication.n3()] = HKG.medication.n3()\n",
    "hkg[DBO.medication.n3()] = HKG.medication.n3()\n",
    "hkg[DBP.prevention.n3()] = HKG.prevention.n3()\n",
    "hkg[DBP.complications.n3()] = HKG.complication.n3()\n",
    "hkg[DBO.complications.n3()]  = HKG.complication.n3()\n",
    "hkg[DBO.medicalDiagnosis.n3()]  = HKG.diagnosis.n3()\n",
    "hkg[DBP.diagnosis.n3()]  = HKG.diagnosis.n3()\n",
    "hkg[DBO.medicalCause.n3()]  = HKG.cause.n3()\n",
    "hkg[DBP.causes.n3()] = DBP.causes.n3()\n",
    "hkg[DBO.symptom.n3()] = HKG.symptom.n3()\n",
    "hkg[DBP.symptoms.n3()] = HKG.symptom.n3()\n",
    "hkg[DBP.risks.n3()] = HKG.risk.n3()"
   ]
  },
  {
   "cell_type": "code",
   "execution_count": 27,
   "id": "6b272498-3278-4815-a742-fe90d68acb32",
   "metadata": {},
   "outputs": [],
   "source": [
    "pattern = \"\"\"construct {{\n",
    "                ?x {out_pred} ?y ; rdf:type ?xt ; rdfs:label ?lx ; owl:sameAs ?rx . ?rx rdfs:label ?lrx .\n",
    "                              ?y   rdf:type ?yt ; rdfs:label ?ly ; owl:sameAs ?ry . ?ry rdfs:label ?lry .\n",
    "            }}\n",
    "            where\n",
    "            {{\n",
    "                ?x {in_pred} ?y .\n",
    "                OPTIONAL {{ ?x rdf:type ?xt . filter ((?xt = dbo:Disease) || (?xt = dbo:Drug)) }}\n",
    "                OPTIONAL {{ ?y rdf:type ?yt . filter ((?yt = dbo:Disease) || (?yt = dbo:Drug)) }}\n",
    "                OPTIONAL {{ ?x rdfs:label ?lx}}\n",
    "                OPTIONAL {{ ?y rdfs:label ?ly}}\n",
    "                OPTIONAL {{ ?x dbo:wikiPageRedirects|^dbo:wikiPageRedirects ?rx . OPTIONAL {{ ?rx rdfs:label ?lrx }} }}\n",
    "                OPTIONAL {{ ?y dbo:wikiPageRedirects|^dbo:wikiPageRedirects ?ry . OPTIONAL {{ ?ry rdfs:label ?lry }} }}\n",
    "            }}\"\"\""
   ]
  },
  {
   "cell_type": "code",
   "execution_count": 28,
   "id": "85de4c21-78c7-4683-8e9e-74a2e93012b3",
   "metadata": {},
   "outputs": [
    {
     "name": "stdout",
     "output_type": "stream",
     "text": [
      "Number of results for <http://dbpedia.org/property/treatment>: 46603\n",
      "Added 2888 triples to main, for a total of 2888\n",
      "Added 23630 triples to labels, for a total of 23630\n",
      "Added 18696 triples to sameas, for a total of 18696\n",
      "Added 1389 triples to types, for a total of 1389\n",
      "\n",
      "Number of results for <http://dbpedia.org/ontology/treatment>: 45140\n",
      "Added 1641 triples to main, for a total of 3987\n",
      "Added 23436 triples to labels, for a total of 29902\n",
      "Added 19055 triples to sameas, for a total of 23798\n",
      "Added 1008 triples to types, for a total of 1537\n",
      "\n",
      "Number of results for <http://dbpedia.org/property/medication>: 28208\n",
      "Added 925 triples to main, for a total of 4912\n",
      "Added 14642 triples to labels, for a total of 36532\n",
      "Added 12019 triples to sameas, for a total of 29258\n",
      "Added 622 triples to types, for a total of 1808\n",
      "\n",
      "Number of results for <http://dbpedia.org/ontology/medication>: 30801\n",
      "Added 803 triples to main, for a total of 5254\n",
      "Added 16116 triples to labels, for a total of 38662\n",
      "Added 13269 triples to sameas, for a total of 30984\n",
      "Added 613 triples to types, for a total of 1877\n",
      "\n",
      "Number of results for <http://dbpedia.org/property/prevention>: 14626\n",
      "Added 694 triples to main, for a total of 5948\n",
      "Added 7525 triples to labels, for a total of 40060\n",
      "Added 5856 triples to sameas, for a total of 31881\n",
      "Added 551 triples to types, for a total of 2084\n",
      "\n",
      "Number of results for <http://dbpedia.org/property/complications>: 33083\n",
      "Added 2142 triples to main, for a total of 8090\n",
      "Added 16586 triples to labels, for a total of 43865\n",
      "Added 13282 triples to sameas, for a total of 34951\n",
      "Added 1073 triples to types, for a total of 2399\n",
      "\n",
      "Number of results for <http://dbpedia.org/ontology/complications>: 22009\n",
      "Added 1857 triples to main, for a total of 9947\n",
      "Added 10747 triples to labels, for a total of 43865\n",
      "Added 8691 triples to sameas, for a total of 34951\n",
      "Added 714 triples to types, for a total of 2416\n",
      "\n",
      "Number of results for <http://dbpedia.org/ontology/medicalDiagnosis>: 28127\n",
      "Added 1175 triples to main, for a total of 11122\n",
      "Added 14633 triples to labels, for a total of 47796\n",
      "Added 11556 triples to sameas, for a total of 38034\n",
      "Added 763 triples to types, for a total of 2494\n",
      "\n",
      "Number of results for <http://dbpedia.org/property/diagnosis>: 37151\n",
      "Added 2200 triples to main, for a total of 12887\n",
      "Added 18954 triples to labels, for a total of 48253\n",
      "Added 14749 triples to sameas, for a total of 38341\n",
      "Added 1248 triples to types, for a total of 2571\n",
      "\n",
      "Number of results for <http://dbpedia.org/ontology/medicalCause>: 46190\n",
      "Added 1577 triples to main, for a total of 14464\n",
      "Added 24222 triples to labels, for a total of 55802\n",
      "Added 19239 triples to sameas, for a total of 44117\n",
      "Added 1152 triples to types, for a total of 2876\n",
      "\n",
      "Number of results for <http://dbpedia.org/property/causes>: 68780\n",
      "Added 5919 triples to main, for a total of 20383\n",
      "Added 35119 triples to labels, for a total of 69415\n",
      "Added 26070 triples to sameas, for a total of 53486\n",
      "Added 1672 triples to types, for a total of 3027\n",
      "\n",
      "Number of results for <http://dbpedia.org/ontology/symptom>: 45718\n",
      "Added 2764 triples to main, for a total of 23147\n",
      "Added 22989 triples to labels, for a total of 75047\n",
      "Added 18596 triples to sameas, for a total of 58150\n",
      "Added 1369 triples to types, for a total of 3333\n",
      "\n",
      "Number of results for <http://dbpedia.org/property/symptoms>: 50284\n",
      "Added 5842 triples to main, for a total of 28566\n",
      "Added 24007 triples to labels, for a total of 75955\n",
      "Added 18654 triples to sameas, for a total of 58748\n",
      "Added 1781 triples to types, for a total of 3414\n",
      "\n",
      "Number of results for <http://dbpedia.org/property/risks>: 26833\n",
      "Added 2107 triples to main, for a total of 30673\n",
      "Added 13339 triples to labels, for a total of 76964\n",
      "Added 10664 triples to sameas, for a total of 59591\n",
      "Added 723 triples to types, for a total of 3441\n",
      "\n"
     ]
    }
   ],
   "source": [
    "main, labels, types, sameas = Graph(), Graph(), Graph(), Graph()\n",
    "for in_pred, out_pred in hkg.items():\n",
    "    # out_pred=in_pred\n",
    "    query = pattern.format(in_pred=in_pred, out_pred=out_pred)\n",
    "    # print(query)\n",
    "    graph = run_query(query, split=True)\n",
    "    print(f\"Number of results for {in_pred}: {len(graph)}\")\n",
    "    main += (s := subgraph(graph, out_pred))\n",
    "    print(f\"Added {len(s)} triples to main, for a total of {len(main)}\")\n",
    "    labels += (s := subgraph(graph, \"rdfs:label\"))\n",
    "    print(f\"Added {len(s)} triples to labels, for a total of {len(labels)}\")\n",
    "    sameas += (s := subgraph(graph, \"owl:sameAs\"))\n",
    "    print(f\"Added {len(s)} triples to sameas, for a total of {len(sameas)}\")\n",
    "    types += (s := subgraph(graph, \"rdf:type\"))\n",
    "    print(f\"Added {len(s)} triples to types, for a total of {len(types)}\\n\")"
   ]
  },
  {
   "cell_type": "code",
   "execution_count": 29,
   "id": "58372296-e266-4a64-b23c-aaa1f25fe6aa",
   "metadata": {},
   "outputs": [
    {
     "data": {
      "text/plain": [
       "(30673, 3441, 76964, 59591)"
      ]
     },
     "execution_count": 29,
     "metadata": {},
     "output_type": "execute_result"
    }
   ],
   "source": [
    "len(main), len(types), len(labels), len(sameas)"
   ]
  },
  {
   "cell_type": "markdown",
   "id": "5e980402-1b92-4fd4-9712-fd8bd9b3c110",
   "metadata": {
    "tags": []
   },
   "source": [
    "### Fix 'dbp:causes' in the main graph"
   ]
  },
  {
   "cell_type": "markdown",
   "id": "f43da137-dd8b-4a95-a067-3b97b66e8787",
   "metadata": {},
   "source": [
    "Exclude subjects and objects of `dbp:causes` that are not drugs or diseases, since `dbp:causes` covers entities of many kinds besides drugs or diseases."
   ]
  },
  {
   "cell_type": "code",
   "execution_count": 30,
   "id": "96425ab0-41b1-41ed-96c4-5f7834c68913",
   "metadata": {},
   "outputs": [],
   "source": [
    "add_namespaces(main)\n",
    "manager = main.namespace_manager"
   ]
  },
  {
   "cell_type": "code",
   "execution_count": 31,
   "id": "e19a7568-990c-4f7b-b212-5ffc593240c2",
   "metadata": {},
   "outputs": [
    {
     "data": {
      "text/plain": [
       "5919"
      ]
     },
     "execution_count": 31,
     "metadata": {},
     "output_type": "execute_result"
    }
   ],
   "source": [
    "causes_triples = set(main.triples((None, DBP.causes, None)))\n",
    "len(causes_triples)"
   ]
  },
  {
   "cell_type": "markdown",
   "id": "537cfbe0-e209-45f0-86f9-345ac5ffa84e",
   "metadata": {},
   "source": [
    "Examples of triples with `dbp:causes`:"
   ]
  },
  {
   "cell_type": "code",
   "execution_count": 32,
   "id": "b437a402-52f3-40bf-a138-868a753a9165",
   "metadata": {},
   "outputs": [
    {
     "name": "stdout",
     "output_type": "stream",
     "text": [
      "dbr:1910_Columbus_streetcar_strike dbp:causes \"long hours\"@en\n",
      "<http://dbpedia.org/resource/VCUarts_adjunct_workers'_protests> dbp:causes \"long hours\"@en\n",
      "dbr:2021_Frito-Lay_strike dbp:causes \"long hours\"@en\n",
      "dbr:Myositis dbp:causes dbr:Idiopathic\n",
      "dbr:Gerstmann_syndrome dbp:causes dbr:Idiopathic\n",
      "dbr:Precocious_puberty dbp:causes dbr:Idiopathic\n"
     ]
    }
   ],
   "source": [
    "for i, (s, p, o) in enumerate(main.triples((None, DBP.causes, None))):\n",
    "    print(s.n3(manager), p.n3(manager), o.n3(manager))\n",
    "    if i > 4:\n",
    "        break"
   ]
  },
  {
   "cell_type": "markdown",
   "id": "c0d6d887-c213-409b-9372-6512c24a9cd0",
   "metadata": {},
   "source": [
    "Some examples of triples that are not needed for our purposes:"
   ]
  },
  {
   "cell_type": "code",
   "execution_count": 33,
   "id": "61d95888-2cbf-47c5-87e6-51d26ce885f0",
   "metadata": {},
   "outputs": [
    {
     "name": "stdout",
     "output_type": "stream",
     "text": [
      "dbr:2014_Jadavpur_University_protests dbp:causes \"police brutality on unarmed students taking part in a non-violent sit in demonstration\"@en\n",
      "dbr:George_Floyd_protests_in_Arizona dbp:causes \"racial and social inequality\"@en\n",
      "<http://dbpedia.org/resource/Montenegrin_nationalist_protests_(2020–present)> dbp:causes \"denial of srebrenica genocide\"@en\n",
      "dbr:June_2013_Egyptian_protests dbp:causes \"policies of president mohamed morsi\"@en\n",
      "<http://dbpedia.org/resource/2011–2013_Russian_protests> dbp:causes \"rigged elections\"@en\n"
     ]
    }
   ],
   "source": [
    "c = 0\n",
    "for s, p, o in causes_triples:\n",
    "    if \"protest\" in s:\n",
    "        print(s.n3(manager), p.n3(manager), o.n3(manager))\n",
    "        c += 1\n",
    "        if c > 4:\n",
    "            break"
   ]
  },
  {
   "cell_type": "code",
   "execution_count": 34,
   "id": "e2b584d4-2d3f-45d1-8329-07797eb70a97",
   "metadata": {},
   "outputs": [
    {
     "data": {
      "text/plain": [
       "24754"
      ]
     },
     "execution_count": 34,
     "metadata": {},
     "output_type": "execute_result"
    }
   ],
   "source": [
    "main.remove((None, DBP.causes, None))\n",
    "len(main)"
   ]
  },
  {
   "cell_type": "markdown",
   "id": "c479cdfb-c9e3-44bf-b91c-e467dae4bd7d",
   "metadata": {},
   "source": [
    "Add triples with `dbp:causes` to the main graph only if the entities involved are drugs or diseases:"
   ]
  },
  {
   "cell_type": "code",
   "execution_count": 35,
   "id": "27a77efd-0f5b-4c43-b6f4-dcfc6a0a58b0",
   "metadata": {},
   "outputs": [],
   "source": [
    "drugs_and_diseases = set(types.subjects(predicate=RDF.type))\n",
    "for s, p, o in causes_triples:\n",
    "    if s in drugs_and_diseases or o in drugs_and_diseases:\n",
    "        main.add((s, HKG.cause, o))"
   ]
  },
  {
   "cell_type": "markdown",
   "id": "0a0e5ced-e382-4817-a6a3-6b089195f841",
   "metadata": {},
   "source": [
    "This is still not guaranteed to work 100%, because of triples like `\"<http://dbpedia.org/resource/Assassination_of_Martin_Luther_King,_Jr.>\",rdf:type,dbo:Disease`."
   ]
  },
  {
   "cell_type": "code",
   "execution_count": 36,
   "id": "f12dd1e6-f17e-4bdc-accb-b61583879491",
   "metadata": {},
   "outputs": [
    {
     "data": {
      "text/plain": [
       "27081"
      ]
     },
     "execution_count": 36,
     "metadata": {},
     "output_type": "execute_result"
    }
   ],
   "source": [
    "len(main)"
   ]
  },
  {
   "cell_type": "code",
   "execution_count": 37,
   "id": "ccc8dbf5-5897-482b-9490-0fac343ac579",
   "metadata": {},
   "outputs": [
    {
     "name": "stdout",
     "output_type": "stream",
     "text": [
      "dbr:Levator_ani_syndrome hkg:cause dbr:Levator_ani_muscle\n",
      "dbr:Dysentery hkg:cause dbr:Entamoeba_histolytica\n",
      "dbr:Amoebiasis hkg:cause dbr:Entamoeba_histolytica\n",
      "dbr:Fungal_infection hkg:cause dbr:Mold\n",
      "dbr:Dry_eye_syndrome hkg:cause dbr:Meibomian_gland_dysfunction\n",
      "dbr:Early_pregnancy_bleeding hkg:cause dbr:Threatened_miscarriage\n"
     ]
    }
   ],
   "source": [
    "for i, (s, p, o) in enumerate(main.triples((None, HKG.cause, None))):\n",
    "    print(s.n3(manager), p.n3(manager), o.n3(manager))\n",
    "    if i > 4:\n",
    "        break"
   ]
  },
  {
   "cell_type": "markdown",
   "id": "ab4fe7d5-47e5-4084-bd1e-96c6accc77c7",
   "metadata": {},
   "source": [
    "### Add labels to main kg"
   ]
  },
  {
   "cell_type": "code",
   "execution_count": 38,
   "id": "55151770-64f7-45ae-bb89-fd45638215a3",
   "metadata": {},
   "outputs": [
    {
     "data": {
      "text/plain": [
       "167077"
      ]
     },
     "execution_count": 38,
     "metadata": {},
     "output_type": "execute_result"
    }
   ],
   "source": [
    "full = main+labels+types+sameas\n",
    "len(full)"
   ]
  },
  {
   "cell_type": "code",
   "execution_count": 39,
   "id": "6ddbc970-9a7c-48e5-ba70-0ddf204bab81",
   "metadata": {},
   "outputs": [
    {
     "name": "stderr",
     "output_type": "stream",
     "text": [
      "100%|█████████████████████████████████████████████████████████████████████████████████████████████████████████████████████████████████████████████████████████████████████| 142143/142143 [00:02<00:00, 61230.29it/s]"
     ]
    },
    {
     "name": "stdout",
     "output_type": "stream",
     "text": [
      "182291\n"
     ]
    },
    {
     "name": "stderr",
     "output_type": "stream",
     "text": [
      "\n"
     ]
    }
   ],
   "source": [
    "main_entities = set(full.all_nodes())\n",
    "for node in tqdm(main_entities):\n",
    "    for trip in all_drugs.triples((node, None, None)):\n",
    "        full.add(trip)\n",
    "    for trip in all_diseases.triples((node, None, None)):\n",
    "        full.add(trip)\n",
    "print(len(full))"
   ]
  },
  {
   "cell_type": "markdown",
   "id": "8301aa17-7476-47d4-9554-5c0226bf6b73",
   "metadata": {},
   "source": [
    "### Save main graph, with its labels, types and equivalent entities"
   ]
  },
  {
   "cell_type": "code",
   "execution_count": 40,
   "id": "d500cf87-67e4-4281-83ef-a76fb211cc0a",
   "metadata": {},
   "outputs": [
    {
     "name": "stdout",
     "output_type": "stream",
     "text": [
      "Saving ./data/graphs/pickle/main_graph.pickle\n",
      "Saving ./data/graphs/csv/main_graph.csv\n",
      "Saving ./data/graphs/ttl/main_graph.ttl\n",
      "CPU times: user 1min 13s, sys: 132 ms, total: 1min 13s\n",
      "Wall time: 1min 13s\n"
     ]
    }
   ],
   "source": [
    "%%time\n",
    "serialize_graph(full, \"main_graph\", \"./data/graphs/\")"
   ]
  }
 ],
 "metadata": {
  "kernelspec": {
   "display_name": "hkgpub",
   "language": "python",
   "name": "hkgpub"
  },
  "language_info": {
   "codemirror_mode": {
    "name": "ipython",
    "version": 3
   },
   "file_extension": ".py",
   "mimetype": "text/x-python",
   "name": "python",
   "nbconvert_exporter": "python",
   "pygments_lexer": "ipython3",
   "version": "3.9.5"
  }
 },
 "nbformat": 4,
 "nbformat_minor": 5
}
